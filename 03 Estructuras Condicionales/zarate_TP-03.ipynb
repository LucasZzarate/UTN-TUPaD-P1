{
 "cells": [
  {
   "cell_type": "markdown",
   "id": "5e0234ab",
   "metadata": {},
   "source": [
    "# Actiividad 1\n",
    "Escribir un programa que solicite la edad del usuario. Si el usuario es mayor de 18 años, deberá mostrar un mensaje en pantalla que diga “Es mayor de edad”."
   ]
  },
  {
   "cell_type": "code",
   "execution_count": null,
   "id": "a3385265",
   "metadata": {},
   "outputs": [],
   "source": [
    "edad= int(input(\"Hola, ingrese su edad.\"))\n",
    "\n",
    "if edad > 18 :\n",
    "    print(\"Es mayor de edad.\")\n",
    "else:\n",
    "    pass"
   ]
  },
  {
   "cell_type": "markdown",
   "id": "7a471044",
   "metadata": {},
   "source": [
    "# Actividad 2\n",
    "Escribir un programa que solicite su nota al usuario. Si la nota es mayor o igual a 6, deberá mostrar por pantalla un mensaje que diga “Aprobado”; en caso contrario deberá mostrar el mensaje “Desaprobado”."
   ]
  },
  {
   "cell_type": "code",
   "execution_count": null,
   "id": "c8a1af9d",
   "metadata": {},
   "outputs": [],
   "source": [
    "nota = float(input(\"Ingrese su nota, porfavor.\")) \n",
    "if nota >= 6.0:\n",
    "    print(\"Aprobado\")\n",
    "else:\n",
    "    print(\"Desaprobado\")"
   ]
  },
  {
   "cell_type": "markdown",
   "id": "6e586c61",
   "metadata": {},
   "source": [
    "# Actividad 3\n",
    "Escribir un programa que permita ingresar solo números pares. Si el usuario ingresa un número par, imprimir por en pantalla el mensaje \"Ha ingresado un número par\"; en caso contrario, imprimir por pantalla \"Por favor, ingrese un número par\". Nota: investigar el uso del operador de módulo (%) en Python para evaluar si un número es par o impar. "
   ]
  },
  {
   "cell_type": "code",
   "execution_count": 15,
   "id": "d0ec1799",
   "metadata": {},
   "outputs": [
    {
     "name": "stdout",
     "output_type": "stream",
     "text": [
      "Ha ingresado un número par.\n"
     ]
    }
   ],
   "source": [
    "num = int(input(\"Ingrese un número impar.\"))\n",
    "if (num %2) == 0:\n",
    "    print(\"Ha ingresado un número par.\")\n",
    "else:\n",
    "    print(\"Por favor, ingrese un número par.\")"
   ]
  },
  {
   "cell_type": "markdown",
   "id": "bb10f92d",
   "metadata": {},
   "source": [
    "# Actividad 4\n",
    "Escribir un programa que solicite al usuario su edad e imprima por pantalla a cuál de las siguientes categorías pertenece: \n",
    "● Niño/a: menor de 12 años. \n",
    "● Adolescente: mayor o igual que 12 años y menor que 18 años. \n",
    "● Adulto/a joven: mayor o igual que 18 años y menor que 30 años. \n",
    "● Adulto/a: mayor o igual que 30 años."
   ]
  },
  {
   "cell_type": "code",
   "execution_count": 33,
   "id": "262134af",
   "metadata": {},
   "outputs": [
    {
     "name": "stdout",
     "output_type": "stream",
     "text": [
      "Pertences a la categoría de Adolecentes.\n"
     ]
    }
   ],
   "source": [
    "edad = int(input(\"Escriba su edad.\"))\n",
    "if edad >= 30:\n",
    "    print(\"Usted pertence a la categoría Adulto/a.\")\n",
    "elif edad >= 18 :\n",
    "    print (\"Usted pertence a la categoría de Adulto/a joven\")\n",
    "elif edad < 18 and edad >= 12:\n",
    "    print('Pertences a la categoría de Adolecentes.')\n",
    "elif edad < 12 and edad > 1:\n",
    "    print(\"Perteneces a la categoría de Niños/as.\")\n",
    "else:\n",
    "    print(\"Edad ingresada incorrecta.\")"
   ]
  },
  {
   "cell_type": "markdown",
   "id": "de705f4e",
   "metadata": {},
   "source": [
    "# Actividad 5\n",
    "Escribir un programa que permita introducir contraseñas de entre 8 y 14 caracteres \n",
    "(incluyendo 8 y 14). Si el usuario ingresa una contraseña de longitud adecuada, imprimir por en \n",
    "pantalla el mensaje \"Ha ingresado una contraseña correcta\"; en caso contrario, imprimir por \n",
    "pantalla \"Por favor, ingrese una contraseña de entre 8 y 14 caracteres\". Nota: investigue el uso \n",
    "de la función len() en Python para evaluar la cantidad de elementos que tiene un iterable tal \n",
    "como una lista o un string."
   ]
  },
  {
   "cell_type": "code",
   "execution_count": null,
   "id": "d4ee8278",
   "metadata": {},
   "outputs": [],
   "source": []
  },
  {
   "cell_type": "markdown",
   "id": "1b80bf0b",
   "metadata": {},
   "source": [
    "# Actividad 6\n",
    " El paquete statistics de python contiene funciones que permiten tomar una lista de números \n",
    "y calcular la moda, la mediana y la media de dichos números. Un ejemplo de su uso es el \n",
    "siguiente: \n",
    "from statistics import mode, median, mean \n",
    "mi_lista = [1,2,5,5,3] \n",
    "mean(mi_lista) \n",
    "En la documentación oficial se puede encontrar más información sobre este paquete: \n",
    "https://docs.python.org/es/3.8/library/statistics.html.  \n",
    "La moda (mode), la mediana (median) y la media (mean) son parámetros estadísticos que se \n",
    "pueden utilizar para predecir la forma de una distribución normal a partir del siguiente criterio: \n",
    "● Sesgo positivo o a la derecha: cuando la media es mayor que la mediana y, a su vez, la \n",
    "mediana es mayor que la moda. \n",
    "● Sesgo negativo o a la izquierda: cuando la media es menor que la mediana y, a su vez, \n",
    "la mediana es menor que la moda. \n",
    "● Sin sesgo: cuando la media, la mediana y la moda son iguales. \n",
    "Teniendo en cuenta lo antes mencionado, escribir un programa que tome la lista \n",
    "numeros_aleatorios, calcule su moda, su mediana y su media y las compare para determinar si \n",
    "hay sesgo positivo, negativo o no hay sesgo. Imprimir el resultado por pantalla. \n",
    "Definir la lista numeros_aleatorios de la siguiente forma: \n",
    "import random \n",
    "numeros_aleatorios = [random.randint(1, 100) for i in range(50)] \n",
    "Nota: el bloque de código anterior crea una lista con 50 números entre 1 y 100 elegidos de \n",
    "forma aleatoria. "
   ]
  }
 ],
 "metadata": {
  "kernelspec": {
   "display_name": ".venv",
   "language": "python",
   "name": "python3"
  },
  "language_info": {
   "codemirror_mode": {
    "name": "ipython",
    "version": 3
   },
   "file_extension": ".py",
   "mimetype": "text/x-python",
   "name": "python",
   "nbconvert_exporter": "python",
   "pygments_lexer": "ipython3",
   "version": "3.11.9"
  }
 },
 "nbformat": 4,
 "nbformat_minor": 5
}
